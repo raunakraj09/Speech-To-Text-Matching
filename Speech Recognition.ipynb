{
 "cells": [
  {
   "cell_type": "code",
   "execution_count": 1,
   "id": "a16b456b-8785-4020-bc99-1d282bd14c04",
   "metadata": {},
   "outputs": [
    {
     "name": "stdout",
     "output_type": "stream",
     "text": [
      "Requirement already satisfied: SpeechRecognition in c:\\users\\hp\\anaconda3\\lib\\site-packages (3.10.4)\n",
      "Requirement already satisfied: requests>=2.26.0 in c:\\users\\hp\\anaconda3\\lib\\site-packages (from SpeechRecognition) (2.31.0)\n",
      "Requirement already satisfied: typing-extensions in c:\\users\\hp\\anaconda3\\lib\\site-packages (from SpeechRecognition) (4.9.0)\n",
      "Requirement already satisfied: charset-normalizer<4,>=2 in c:\\users\\hp\\anaconda3\\lib\\site-packages (from requests>=2.26.0->SpeechRecognition) (2.0.4)\n",
      "Requirement already satisfied: idna<4,>=2.5 in c:\\users\\hp\\anaconda3\\lib\\site-packages (from requests>=2.26.0->SpeechRecognition) (3.4)\n",
      "Requirement already satisfied: urllib3<3,>=1.21.1 in c:\\users\\hp\\anaconda3\\lib\\site-packages (from requests>=2.26.0->SpeechRecognition) (2.0.7)\n",
      "Requirement already satisfied: certifi>=2017.4.17 in c:\\users\\hp\\anaconda3\\lib\\site-packages (from requests>=2.26.0->SpeechRecognition) (2024.2.2)\n",
      "Note: you may need to restart the kernel to use updated packages.\n"
     ]
    }
   ],
   "source": [
    "pip install SpeechRecognition"
   ]
  },
  {
   "cell_type": "code",
   "execution_count": 2,
   "id": "5be2d387-752e-4938-b75b-a9aa0e4db6d6",
   "metadata": {},
   "outputs": [
    {
     "name": "stdout",
     "output_type": "stream",
     "text": [
      "Requirement already satisfied: pyttsx3 in c:\\users\\hp\\anaconda3\\lib\\site-packages (2.90)\n",
      "Requirement already satisfied: comtypes in c:\\users\\hp\\anaconda3\\lib\\site-packages (from pyttsx3) (1.4.4)\n",
      "Requirement already satisfied: pypiwin32 in c:\\users\\hp\\anaconda3\\lib\\site-packages (from pyttsx3) (223)\n",
      "Requirement already satisfied: pywin32 in c:\\users\\hp\\anaconda3\\lib\\site-packages (from pyttsx3) (305.1)\n",
      "Note: you may need to restart the kernel to use updated packages.\n"
     ]
    }
   ],
   "source": [
    "pip install pyttsx3"
   ]
  },
  {
   "cell_type": "code",
   "execution_count": 1,
   "id": "594223dc-cb76-4f30-bc55-a82d21639779",
   "metadata": {},
   "outputs": [],
   "source": [
    "import speech_recognition as sr"
   ]
  },
  {
   "cell_type": "code",
   "execution_count": 2,
   "id": "15ab343b-be61-4de8-acc8-eae684734397",
   "metadata": {},
   "outputs": [],
   "source": [
    "import pyttsx3"
   ]
  },
  {
   "cell_type": "code",
   "execution_count": 15,
   "id": "17098938-35f6-49fc-b4f2-55fc26864f52",
   "metadata": {},
   "outputs": [
    {
     "name": "stdout",
     "output_type": "stream",
     "text": [
      "Collecting pyaudio\n",
      "  Downloading PyAudio-0.2.14-cp311-cp311-win_amd64.whl.metadata (2.7 kB)\n",
      "Downloading PyAudio-0.2.14-cp311-cp311-win_amd64.whl (164 kB)\n",
      "   ---------------------------------------- 0.0/164.1 kB ? eta -:--:--\n",
      "   -- ------------------------------------- 10.2/164.1 kB ? eta -:--:--\n",
      "   --------- ----------------------------- 41.0/164.1 kB 326.8 kB/s eta 0:00:01\n",
      "   --------- ----------------------------- 41.0/164.1 kB 326.8 kB/s eta 0:00:01\n",
      "   --------- ----------------------------- 41.0/164.1 kB 326.8 kB/s eta 0:00:01\n",
      "   ------------------------------ ------- 133.1/164.1 kB 561.1 kB/s eta 0:00:01\n",
      "   -------------------------------------  163.8/164.1 kB 546.6 kB/s eta 0:00:01\n",
      "   -------------------------------------- 164.1/164.1 kB 493.0 kB/s eta 0:00:00\n",
      "Installing collected packages: pyaudio\n",
      "Successfully installed pyaudio-0.2.14\n",
      "Note: you may need to restart the kernel to use updated packages.\n"
     ]
    }
   ],
   "source": [
    "pip install pyaudio"
   ]
  },
  {
   "cell_type": "code",
   "execution_count": 3,
   "id": "8261da77-1690-40f7-84a4-7f2624e04624",
   "metadata": {},
   "outputs": [],
   "source": [
    "import pyaudio"
   ]
  },
  {
   "cell_type": "code",
   "execution_count": 16,
   "id": "e923841d-0b03-4c2f-a0e6-70a68fa61db4",
   "metadata": {},
   "outputs": [],
   "source": [
    "from difflib import SequenceMatcher"
   ]
  },
  {
   "cell_type": "code",
   "execution_count": 42,
   "id": "39873d19-4b40-4a93-a782-acb84ec62384",
   "metadata": {},
   "outputs": [],
   "source": [
    "import string"
   ]
  },
  {
   "cell_type": "code",
   "execution_count": 43,
   "id": "4f251f89-0de4-4bbe-9a4d-18e30234e627",
   "metadata": {},
   "outputs": [],
   "source": [
    "def remove_punctuation(text):\n",
    "    return text.translate(str.maketrans('', '', string.punctuation))"
   ]
  },
  {
   "cell_type": "code",
   "execution_count": 45,
   "id": "5d0f513e-6565-40a4-88c6-455f57a8a299",
   "metadata": {},
   "outputs": [],
   "source": [
    "def calculate_word_match_score(entered_word, spoken_word):\n",
    "    if entered_word == spoken_word:\n",
    "        return 100.0\n",
    "    else:\n",
    "        matcher = SequenceMatcher(None, entered_word, spoken_word)\n",
    "        return matcher.ratio() * 100"
   ]
  },
  {
   "cell_type": "code",
   "execution_count": 22,
   "id": "0f2821cf-6a29-4acf-9449-722b6fcd72c9",
   "metadata": {},
   "outputs": [],
   "source": [
    "def calculate_accuracy(entered_text, spoken_text):\n",
    "    matcher = SequenceMatcher(None, entered_text, spoken_text)\n",
    "    return matcher.ratio() * 100"
   ]
  },
  {
   "cell_type": "code",
   "execution_count": 51,
   "id": "61a67a60-5bdd-4283-8c4a-61397a5b2239",
   "metadata": {},
   "outputs": [
    {
     "name": "stdin",
     "output_type": "stream",
     "text": [
      "Please Enter The Text You Will Speak:  Hello my name john my sports cricket\n"
     ]
    },
    {
     "name": "stdout",
     "output_type": "stream",
     "text": [
      "Your Entered Text is: Hello my name john my sports cricket\n",
      "Setting Up Microphone: \n",
      "You are now ready to speak....\n",
      "Your Entered Text: my sports name my hello cricket\n",
      "hello score - 0.00%\n",
      "my score - 0.00%\n",
      "name score - 100.00%\n",
      "john score - 0.00%\n",
      "my score - 0.00%\n",
      "sports score - 30.77%\n",
      "Error!!\n",
      "Accuracy Percentage: 50.75%\n"
     ]
    }
   ],
   "source": [
    "recognizer = sr.Recognizer()\n",
    "\n",
    "user_input = input(\"Please Enter The Text You Will Speak: \")\n",
    "print(\"Your Entered Text is: \" + user_input)\n",
    "user_input = user_input.lower()\n",
    "user_input = remove_punctuation(user_input) \n",
    "\n",
    "with sr.Microphone() as source2:\n",
    "    print(\"Setting Up Microphone: \")  \n",
    "    \n",
    "    recognizer.adjust_for_ambient_noise(source2, duration=2)\n",
    "    \n",
    "    print(\"You are now ready to speak....\")  \n",
    "    \n",
    "    audio2 = recognizer.listen(source2)\n",
    "    \n",
    "    textt = recognizer.recognize_google(audio2)\n",
    "    \n",
    "    textt = textt.lower()\n",
    "    \n",
    "    print(\"Your Entered Text: \" + textt)\n",
    "\n",
    "    entered_words = user_input.split()\n",
    "    spoken_words = textt.split()\n",
    "        \n",
    "        \n",
    "    for entered_word, spoken_word in zip(entered_words, spoken_words):\n",
    "            score = calculate_word_match_score(entered_word, spoken_word)\n",
    "            print(f\"{entered_word} score - {score:.2f}%\")\n",
    "\n",
    "    if textt == user_input:\n",
    "        print(\"Correctly Matched\")\n",
    "        score = calculate_accuracy(user_input, textt) \n",
    "        print(f\"Accuracy Percentage: {score:.2f}%\")  \n",
    "\n",
    "    else:\n",
    "        print(\"Error!!\")\n",
    "        score = calculate_accuracy(user_input, textt) \n",
    "        print(f\"Accuracy Percentage: {score:.2f}%\")  \n",
    "    "
   ]
  }
 ],
 "metadata": {
  "kernelspec": {
   "display_name": "Python 3 (ipykernel)",
   "language": "python",
   "name": "python3"
  },
  "language_info": {
   "codemirror_mode": {
    "name": "ipython",
    "version": 3
   },
   "file_extension": ".py",
   "mimetype": "text/x-python",
   "name": "python",
   "nbconvert_exporter": "python",
   "pygments_lexer": "ipython3",
   "version": "3.11.7"
  }
 },
 "nbformat": 4,
 "nbformat_minor": 5
}
